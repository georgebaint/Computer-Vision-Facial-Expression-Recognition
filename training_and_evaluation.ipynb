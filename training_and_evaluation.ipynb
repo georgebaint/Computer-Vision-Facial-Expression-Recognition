{
 "cells": [
  {
   "cell_type": "code",
   "execution_count": 37,
   "metadata": {},
   "outputs": [],
   "source": [
    "import numpy as np\n",
    "import pandas as pd\n",
    "import matplotlib.pyplot as plt\n",
    "import seaborn as sns\n",
    "import torch\n",
    "import torch.nn as nn\n",
    "import torch.optim as optim\n",
    "from torch.utils.data import Dataset, DataLoader\n",
    "from torchvision import transforms\n",
    "from PIL import Image"
   ]
  },
  {
   "cell_type": "markdown",
   "metadata": {},
   "source": [
    "# Dataloader creation"
   ]
  },
  {
   "cell_type": "code",
   "execution_count": 38,
   "metadata": {},
   "outputs": [],
   "source": [
    "# Define custom dataset class for FER2013\n",
    "class TensorFromDataset(Dataset):\n",
    "    def __init__(self, data, transform=None):\n",
    "        self.data = data\n",
    "        self.transform = transform\n",
    "\n",
    "    def __len__(self):\n",
    "        return len(self.data)\n",
    "\n",
    "    def __getitem__(self, idx):\n",
    "        if torch.is_tensor(idx):\n",
    "            idx = idx.tolist()\n",
    "        \n",
    "        img_name = self.data.iloc[idx, 1]\n",
    "        pixels = [int(pixel) for pixel in img_name.split(' ')]\n",
    "        image = torch.tensor(pixels, dtype=torch.float32).reshape(48, 48)\n",
    "\n",
    "        label = int(self.data.iloc[idx, 0])\n",
    "        \n",
    "        if self.transform:\n",
    "            image = self.transform(image)\n",
    "        \n",
    "        return image, label\n",
    "\n",
    "# # Define transformations for preprocessing\n",
    "# transform = transforms.Compose([\n",
    "#     transforms.ToPILImage(),\n",
    "#     transforms.Grayscale(num_output_channels=1),\n",
    "#     transforms.Resize((64, 64)),  # Resize the images to match model input size\n",
    "#     transforms.ToTensor(),\n",
    "#     transforms.Normalize((0.5,), (0.5,))\n",
    "# ])\n",
    "# transform = None\n",
    "transform = transforms.Compose([\n",
    "    transforms.ToPILImage(),\n",
    "    transforms.ToTensor()\n",
    "])\n",
    "\n",
    "df = pd.read_csv('fer2013/fer2013/fer2013.csv')\n",
    "training = df[df['Usage'] == 'Training']\n",
    "validation = df[df['Usage'] == 'PublicTest']\n",
    "testing = df[df['Usage'] == 'PrivateTest']\n",
    "\n",
    "# Load FER2013 dataset\n",
    "\n",
    "train_set = TensorFromDataset(data = training, transform=transform)\n",
    "valid_set = TensorFromDataset(data = validation, transform=transform)\n",
    "test_set = TensorFromDataset(data = testing, transform=transform)\n",
    "\n",
    "\n",
    "# Create data loaders\n",
    "batch_size = 32\n",
    "data_loader_train = DataLoader(train_set, batch_size=batch_size, shuffle=True)\n",
    "data_loader_validation = DataLoader(valid_set, batch_size=batch_size, shuffle=True)\n",
    "data_loader_test = DataLoader(test_set, batch_size=batch_size, shuffle=True)"
   ]
  },
  {
   "cell_type": "code",
   "execution_count": 39,
   "metadata": {},
   "outputs": [],
   "source": [
    "def split_dataset(loader):\n",
    "    # Create a DataLoader for the dataset\n",
    "    # loader = DataLoader(dataset, batch_size=batch_size, shuffle=False)\n",
    "\n",
    "    # Initialize lists to store the features and labels\n",
    "    features = []\n",
    "    labels = []\n",
    "\n",
    "    # Iterate through the DataLoader\n",
    "    for imgs, lbls in loader:\n",
    "        # Depending on your model, you might want to move your tensors to a device like CUDA\n",
    "        imgs, lbls = imgs.cuda(), lbls.cuda()\n",
    "        \n",
    "        # Append the batch to the lists\n",
    "        features.append(imgs)\n",
    "        labels.append(lbls)\n",
    "\n",
    "    # Concatenate all batches\n",
    "    features = torch.cat(features, dim=0)\n",
    "    labels = torch.cat(labels, dim=0)\n",
    "    \n",
    "\n",
    "    return features, labels"
   ]
  },
  {
   "cell_type": "code",
   "execution_count": 40,
   "metadata": {},
   "outputs": [],
   "source": [
    "# Now, you can use this function to split your test_set\n",
    "X_test, Y_test = split_dataset(data_loader_test)"
   ]
  },
  {
   "cell_type": "code",
   "execution_count": 4,
   "metadata": {},
   "outputs": [],
   "source": [
    "\n",
    "\n",
    "# for i, (inputs, labels) in enumerate(data_loader_train):\n",
    "#     print(f\"Batch {i}:\")\n",
    "#     print(\"Inputs:\", inputs.shape)\n",
    "#     print(\"Labels:\",labels.shape)"
   ]
  },
  {
   "cell_type": "code",
   "execution_count": 41,
   "metadata": {},
   "outputs": [],
   "source": [
    "# Model 1 definition\n",
    "\n",
    "def Model1():\n",
    "    model = nn.Sequential(\n",
    "        # Convolutional layer 1\n",
    "        nn.Conv2d(in_channels=1, out_channels=16, kernel_size=3, stride=1, padding=1),\n",
    "        nn.ReLU(),\n",
    "        nn.MaxPool2d(kernel_size=2, stride=2),\n",
    "\n",
    "        # Convolutional layer 2\n",
    "        nn.Conv2d(in_channels=16, out_channels=32, kernel_size=3, stride=1, padding=1),\n",
    "        nn.ReLU(),\n",
    "        nn.MaxPool2d(kernel_size=2, stride=2),\n",
    "\n",
    "        # Convolutional layer 3\n",
    "        nn.Conv2d(in_channels=32, out_channels=64, kernel_size=3, stride=1, padding=1),\n",
    "        nn.ReLU(),\n",
    "        nn.MaxPool2d(kernel_size=2, stride=2),\n",
    "\n",
    "        # Flatten the output for fully connected layers\n",
    "        nn.Flatten(),\n",
    "\n",
    "        # Fully connected layers\n",
    "        nn.Linear(64 * 6 * 6, 128),  # Adjust the input size based on the output size of the previous layer\n",
    "        nn.ReLU(),\n",
    "        nn.Linear(128, 7)  # Adjust the output size based on the number of classes in your classification task\n",
    "    )\n",
    "\n",
    "    # Print the model architecture\n",
    "    print(model)\n",
    "    device = torch.device(\"cuda\" if torch.cuda.is_available() else \"cpu\")\n",
    "    model.to(device)\n",
    "    return model\n"
   ]
  },
  {
   "cell_type": "code",
   "execution_count": 42,
   "metadata": {},
   "outputs": [
    {
     "name": "stdout",
     "output_type": "stream",
     "text": [
      "Sequential(\n",
      "  (0): Conv2d(1, 16, kernel_size=(3, 3), stride=(1, 1), padding=(1, 1))\n",
      "  (1): ReLU()\n",
      "  (2): MaxPool2d(kernel_size=2, stride=2, padding=0, dilation=1, ceil_mode=False)\n",
      "  (3): Conv2d(16, 32, kernel_size=(3, 3), stride=(1, 1), padding=(1, 1))\n",
      "  (4): ReLU()\n",
      "  (5): MaxPool2d(kernel_size=2, stride=2, padding=0, dilation=1, ceil_mode=False)\n",
      "  (6): Conv2d(32, 64, kernel_size=(3, 3), stride=(1, 1), padding=(1, 1))\n",
      "  (7): ReLU()\n",
      "  (8): MaxPool2d(kernel_size=2, stride=2, padding=0, dilation=1, ceil_mode=False)\n",
      "  (9): Flatten(start_dim=1, end_dim=-1)\n",
      "  (10): Linear(in_features=2304, out_features=128, bias=True)\n",
      "  (11): ReLU()\n",
      "  (12): Linear(in_features=128, out_features=7, bias=True)\n",
      ")\n"
     ]
    }
   ],
   "source": [
    "model1 = Model1()"
   ]
  },
  {
   "cell_type": "code",
   "execution_count": 43,
   "metadata": {},
   "outputs": [],
   "source": [
    "def train_model(model, training_data_loader, validation_data_loader, num_epochs, model_name):\n",
    "    # Move model and data to GPU\n",
    "    device = torch.device(\"cuda\" if torch.cuda.is_available() else \"cpu\")\n",
    "    # model.to(device)\n",
    "    # Define loss function and optimizer\n",
    "    criterion = nn.CrossEntropyLoss()\n",
    "    optimizer = optim.Adam(model1.parameters(), lr=0.001)\n",
    "\n",
    "    # Train the model\n",
    "    for epoch in range(num_epochs):\n",
    "        running_loss = 0.0\n",
    "        for images, labels in training_data_loader:\n",
    "\n",
    "            #this shoul be added only if running in GPU, otherwise comment\n",
    "            images, labels = images.to(device), labels.to(device)\n",
    "\n",
    "            # Zero the parameter gradients\n",
    "            optimizer.zero_grad()\n",
    "\n",
    "            # Forward pass\n",
    "            outputs = model(images)\n",
    "            loss = criterion(outputs, labels)\n",
    "\n",
    "            # Backward pass and optimize\n",
    "            loss.backward()\n",
    "            optimizer.step()\n",
    "\n",
    "            running_loss += loss.item()\n",
    "\n",
    "        print(f\"Epoch [{epoch+1}/{num_epochs}], Loss: {running_loss/len(data_loader_train)}\")\n",
    "\n",
    "    # Example model class name extraction and save\n",
    "    filename = f'{model_name}_weights.pth'\n",
    "    torch.save(model.state_dict(), filename)"
   ]
  },
  {
   "cell_type": "code",
   "execution_count": 44,
   "metadata": {},
   "outputs": [
    {
     "name": "stdout",
     "output_type": "stream",
     "text": [
      "Epoch [1/20], Loss: 1.657724063884973\n",
      "Epoch [2/20], Loss: 1.4263919035682169\n",
      "Epoch [3/20], Loss: 1.300288135862032\n",
      "Epoch [4/20], Loss: 1.2122624912745172\n",
      "Epoch [5/20], Loss: 1.140012681749722\n",
      "Epoch [6/20], Loss: 1.069885853205067\n",
      "Epoch [7/20], Loss: 1.0105740844805151\n",
      "Epoch [8/20], Loss: 0.9442855734668489\n",
      "Epoch [9/20], Loss: 0.8796566252519931\n",
      "Epoch [10/20], Loss: 0.8185191930070487\n",
      "Epoch [11/20], Loss: 0.7519765782329713\n",
      "Epoch [12/20], Loss: 0.6934847162667256\n",
      "Epoch [13/20], Loss: 0.6317770102109038\n",
      "Epoch [14/20], Loss: 0.5733695519063414\n",
      "Epoch [15/20], Loss: 0.5202068236629522\n",
      "Epoch [16/20], Loss: 0.47183980314861695\n",
      "Epoch [17/20], Loss: 0.42283534310044585\n",
      "Epoch [18/20], Loss: 0.3789655471548338\n",
      "Epoch [19/20], Loss: 0.3406681058003271\n",
      "Epoch [20/20], Loss: 0.3085716105790141\n"
     ]
    }
   ],
   "source": [
    "train_model(model1, data_loader_train, data_loader_validation, 20, 'model1')"
   ]
  },
  {
   "cell_type": "markdown",
   "metadata": {},
   "source": [
    "# Load and evaluate the model"
   ]
  },
  {
   "cell_type": "code",
   "execution_count": 45,
   "metadata": {},
   "outputs": [
    {
     "name": "stdout",
     "output_type": "stream",
     "text": [
      "Sequential(\n",
      "  (0): Conv2d(1, 16, kernel_size=(3, 3), stride=(1, 1), padding=(1, 1))\n",
      "  (1): ReLU()\n",
      "  (2): MaxPool2d(kernel_size=2, stride=2, padding=0, dilation=1, ceil_mode=False)\n",
      "  (3): Conv2d(16, 32, kernel_size=(3, 3), stride=(1, 1), padding=(1, 1))\n",
      "  (4): ReLU()\n",
      "  (5): MaxPool2d(kernel_size=2, stride=2, padding=0, dilation=1, ceil_mode=False)\n",
      "  (6): Conv2d(32, 64, kernel_size=(3, 3), stride=(1, 1), padding=(1, 1))\n",
      "  (7): ReLU()\n",
      "  (8): MaxPool2d(kernel_size=2, stride=2, padding=0, dilation=1, ceil_mode=False)\n",
      "  (9): Flatten(start_dim=1, end_dim=-1)\n",
      "  (10): Linear(in_features=2304, out_features=128, bias=True)\n",
      "  (11): ReLU()\n",
      "  (12): Linear(in_features=128, out_features=7, bias=True)\n",
      ")\n"
     ]
    },
    {
     "data": {
      "text/plain": [
       "<All keys matched successfully>"
      ]
     },
     "execution_count": 45,
     "metadata": {},
     "output_type": "execute_result"
    }
   ],
   "source": [
    "model1 = Model1()\n",
    "model_name = 'model1'\n",
    "filename = f'{model_name}_weights.pth'\n",
    "model1.load_state_dict(torch.load(filename))"
   ]
  },
  {
   "cell_type": "code",
   "execution_count": 6,
   "metadata": {},
   "outputs": [],
   "source": [
    "# for i, (inputs, labels) in enumerate(data_loader_test):\n",
    "#     print(f\"Batch {i}:\")\n",
    "#     # print(\"Inputs:\", inputs.shape)\n",
    "#     print(\"Labels:\",labels)"
   ]
  },
  {
   "cell_type": "code",
   "execution_count": 46,
   "metadata": {},
   "outputs": [],
   "source": [
    "# evaluate model at end of epoch\n",
    "def evaluate_model(model, x_test, y_test):\n",
    "    model.eval()\n",
    "    y_pred = model(x_test)\n",
    "    acc = 0\n",
    "    count = 0\n",
    "    pred_list = []\n",
    "    for pred, test in zip(y_pred, y_test):\n",
    "        acc += (torch.argmax(pred) == test).float()\n",
    "        pred_list.append(torch.argmax(pred).detach().cpu().numpy())\n",
    "        count+=1\n",
    "    acc = acc/count\n",
    "    pred_list = np.asarray(pred_list)\n",
    "    y_pred_numpy = y_pred.detach().cpu().numpy()\n",
    "    y_test_numpy = y_test.detach().cpu().numpy()\n",
    "    # print(y_test) \n",
    "    # print(y_pred) \n",
    "    print(f\"Accuracy is {acc}\")\n",
    "\n",
    "    # print(y_pred.shape)\n",
    "    # print(Y_test.shape)\n",
    "    # print(y_pred[1])\n",
    "    return y_pred_numpy, y_test_numpy, pred_list\n"
   ]
  },
  {
   "cell_type": "code",
   "execution_count": 47,
   "metadata": {},
   "outputs": [
    {
     "name": "stdout",
     "output_type": "stream",
     "text": [
      "Accuracy is 0.539983332157135\n",
      "[4 2 5 ... 2 5 3]\n",
      "[0 4 5 ... 2 5 3]\n"
     ]
    }
   ],
   "source": [
    "y_pred_numpy, y_test_numpy, pred_list = evaluate_model(model1, X_test, Y_test)\n",
    "\n",
    "print(y_test_numpy)\n",
    "print(pred_list)"
   ]
  },
  {
   "cell_type": "code",
   "execution_count": 48,
   "metadata": {},
   "outputs": [
    {
     "name": "stdout",
     "output_type": "stream",
     "text": [
      "              precision    recall  f1-score   support\n",
      "\n",
      "           0       0.37      0.50      0.43       491\n",
      "           1       0.73      0.40      0.52        55\n",
      "           2       0.45      0.33      0.38       528\n",
      "           3       0.77      0.72      0.74       879\n",
      "           4       0.42      0.41      0.41       594\n",
      "           5       0.64      0.74      0.69       416\n",
      "           6       0.50      0.50      0.50       626\n",
      "\n",
      "    accuracy                           0.54      3589\n",
      "   macro avg       0.55      0.51      0.52      3589\n",
      "weighted avg       0.55      0.54      0.54      3589\n",
      "\n"
     ]
    }
   ],
   "source": [
    "from sklearn.metrics import classification_report\n",
    "import threadpoolctl\n",
    "\n",
    "print(classification_report(y_test_numpy, pred_list))"
   ]
  },
  {
   "cell_type": "code",
   "execution_count": null,
   "metadata": {},
   "outputs": [],
   "source": []
  }
 ],
 "metadata": {
  "kernelspec": {
   "display_name": "Python 3",
   "language": "python",
   "name": "python3"
  },
  "language_info": {
   "codemirror_mode": {
    "name": "ipython",
    "version": 3
   },
   "file_extension": ".py",
   "mimetype": "text/x-python",
   "name": "python",
   "nbconvert_exporter": "python",
   "pygments_lexer": "ipython3",
   "version": "3.9.19"
  }
 },
 "nbformat": 4,
 "nbformat_minor": 2
}
